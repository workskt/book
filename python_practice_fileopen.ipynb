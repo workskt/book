{
 "cells": [
  {
   "cell_type": "markdown",
   "metadata": {},
   "source": [
    "# テキストファイルを開く・ファイルに出力する\n",
    "\n",
    "---\n",
    "\n",
    "テキストファイルを処理するために、まずはテキストファイルを開いてみます。  \n",
    "\n",
    "今回はUCSCのサイトから、ヒトの転写産物情報が記載されているrefFlatファイルをダウンロードします。  \n",
    "https://genome.ucsc.edu/  \n",
    "Downloads -> Genome Data -> Human -> Annotations -> SQL table dump annotations -> refFlat.txt.gzをダウンロード  \n",
    "\n",
    "gzファイルを解凍します。  \n",
    "> ターミナルであれば $ gunzip refFlat.txt.gz  \n",
    "> windownsの場合だと解凍用フリーウェアがあります。  \n",
    "\n",
    "pythonでファイルを開くためには`open( )`と`with`を使います。   \n",
    "\n",
    "\n",
    "<br>\n",
    "\n",
    "```python\n",
    "with open(読み込みファイルパス) as ファイルオブジェクト:\n",
    "    処理\n",
    "```\n",
    "\n",
    "<br>\n",
    "\n",
    "ファイルオブジェクトはそのファイルの内容を呼び出すときに使う名前のようなものと考えてください。  \n",
    "with以降の行はインデントを入れることで、ファイルを開いた状態での処理となります。  \n",
    "\n",
    "ファイルを開いたあとは、そのファイルの内容を取り出す必要があります。  \n",
    "内容を取り出すためには`readlines( )`メソッドを使います。  \n",
    "これは、ファイルの内容を一行ずつリスト形式にして取り出します。  \n",
    "ファイルオブジェクトと`readlines( )`を`.`で繋ぎます。  "
   ]
  },
  {
   "cell_type": "code",
   "execution_count": 1,
   "metadata": {},
   "outputs": [
    {
     "name": "stdout",
     "output_type": "stream",
     "text": [
      "ZNF639\tNM_001375803\tchr3\t+\t179323030\t179338583\t179328293\t179334422\t5\t179323030,179328282,179329617,179332988,179333268,\t179323291,179328351,179329728,179333123,179338583,\n",
      "\n",
      "WASH7P\tNR_024540\tchr1\t-\t14361\t29370\t29370\t29370\t11\t14361,14969,15795,16606,16857,17232,17605,17914,18267,24737,29320,\t14829,15038,15947,16765,17055,17368,17742,18061,18366,24891,29370,\n",
      "\n",
      "MIR6859-1\tNR_106918\tchr1\t-\t17368\t17436\t17436\t17436\t1\t17368,\t17436,\n",
      "\n",
      "MIR6859-2\tNR_107062\tchr1\t-\t17368\t17436\t17436\t17436\t1\t17368,\t17436,\n",
      "\n",
      "MIR6859-3\tNR_107063\tchr1\t-\t17368\t17436\t17436\t17436\t1\t17368,\t17436,\n",
      "\n",
      "MIR6859-4\tNR_128720\tchr1\t-\t17368\t17436\t17436\t17436\t1\t17368,\t17436,\n",
      "\n",
      "MIR1302-2\tNR_036051\tchr1\t+\t30365\t30503\t30503\t30503\t1\t30365,\t30503,\n",
      "\n",
      "MIR1302-9\tNR_036266\tchr1\t+\t30365\t30503\t30503\t30503\t1\t30365,\t30503,\n",
      "\n",
      "MIR1302-10\tNR_036267\tchr1\t+\t30365\t30503\t30503\t30503\t1\t30365,\t30503,\n",
      "\n",
      "MIR1302-11\tNR_036268\tchr1\t+\t30365\t30503\t30503\t30503\t1\t30365,\t30503,\n",
      "\n"
     ]
    }
   ],
   "source": [
    "with open('refFlat.txt') as f:\n",
    "    lines = f.readlines()\n",
    "    for line in lines[:10]: #表示の都合上１０行だけ出力していますが、for line in lines:で全ての行を出力できます。\n",
    "        print(line)    "
   ]
  },
  {
   "cell_type": "markdown",
   "metadata": {},
   "source": [
    "`readlines( )`でファイルの内容を一行ずつ分けて`lines`というリストに格納しました。  \n",
    "その後、**for文**を使ってリストの要素を一つずつ、つまりファイル内容を一行ずつ表示させています。  \n",
    "\n",
    "`readlines( )`はファイルの内容を全て読み込みます。  \n",
    "バイオデータ解析では、次世代シーケンサーの配列データ（Fastq、SAM等）のように容量の大きなものを扱うことがあります。  \n",
    "メモリに負荷をかけないようにするため、一行だけ取り出して処理を行う、というのを繰り返した方がよい場合があります。  \n",
    "その場合は`in`の後ろに直接ファイルオブジェクトをもってきます。  "
   ]
  },
  {
   "cell_type": "code",
   "execution_count": 2,
   "metadata": {},
   "outputs": [
    {
     "name": "stdout",
     "output_type": "stream",
     "text": [
      "ZNF639\tNM_001375803\tchr3\t+\t179323030\t179338583\t179328293\t179334422\t5\t179323030,179328282,179329617,179332988,179333268,\t179323291,179328351,179329728,179333123,179338583,\n",
      "\n",
      "WASH7P\tNR_024540\tchr1\t-\t14361\t29370\t29370\t29370\t11\t14361,14969,15795,16606,16857,17232,17605,17914,18267,24737,29320,\t14829,15038,15947,16765,17055,17368,17742,18061,18366,24891,29370,\n",
      "\n",
      "MIR6859-1\tNR_106918\tchr1\t-\t17368\t17436\t17436\t17436\t1\t17368,\t17436,\n",
      "\n",
      "MIR6859-2\tNR_107062\tchr1\t-\t17368\t17436\t17436\t17436\t1\t17368,\t17436,\n",
      "\n",
      "MIR6859-3\tNR_107063\tchr1\t-\t17368\t17436\t17436\t17436\t1\t17368,\t17436,\n",
      "\n",
      "MIR6859-4\tNR_128720\tchr1\t-\t17368\t17436\t17436\t17436\t1\t17368,\t17436,\n",
      "\n",
      "MIR1302-2\tNR_036051\tchr1\t+\t30365\t30503\t30503\t30503\t1\t30365,\t30503,\n",
      "\n",
      "MIR1302-9\tNR_036266\tchr1\t+\t30365\t30503\t30503\t30503\t1\t30365,\t30503,\n",
      "\n",
      "MIR1302-10\tNR_036267\tchr1\t+\t30365\t30503\t30503\t30503\t1\t30365,\t30503,\n",
      "\n",
      "MIR1302-11\tNR_036268\tchr1\t+\t30365\t30503\t30503\t30503\t1\t30365,\t30503,\n",
      "\n"
     ]
    }
   ],
   "source": [
    "with open('refFlat.txt') as f:\n",
    "    line_num = 1 #表示の都合上１０行だけ出力していますが、コメントをつけている行（コメントアウト）を除けば全て表示できます。\n",
    "    for line in f:\n",
    "        print(line)\n",
    "        \n",
    "        line_num += 1 #全て出力する場合不要\n",
    "        if line_num > 10: #全て出力する場合不要\n",
    "            break #全て出力する場合不要"
   ]
  },
  {
   "cell_type": "markdown",
   "metadata": {},
   "source": [
    "`__sizeof__()`を使うと使用メモリを確認できます。"
   ]
  },
  {
   "cell_type": "code",
   "execution_count": 3,
   "metadata": {},
   "outputs": [
    {
     "name": "stdout",
     "output_type": "stream",
     "text": [
      "782016\n"
     ]
    }
   ],
   "source": [
    "with open('refFlat.txt') as f:\n",
    "    lines = f.readlines()\n",
    "    print(lines.__sizeof__())"
   ]
  },
  {
   "cell_type": "code",
   "execution_count": 4,
   "metadata": {},
   "outputs": [
    {
     "name": "stdout",
     "output_type": "stream",
     "text": [
      "220\n",
      "234\n",
      "116\n",
      "116\n",
      "116\n",
      "116\n",
      "116\n",
      "116\n",
      "117\n",
      "117\n"
     ]
    }
   ],
   "source": [
    "with open('refFlat.txt') as f:\n",
    "    line_num = 1 #表示の都合上１０行だけ出力していますが、コメントをつけている行（コメントアウト）を除けば全て表示できます。\n",
    "    for line in f:\n",
    "        print(line.__sizeof__())\n",
    "        \n",
    "        line_num += 1 #全て出力する場合不要\n",
    "        if line_num > 10: #全て出力する場合不要\n",
    "            break #全て出力する場合不要 "
   ]
  },
  {
   "cell_type": "markdown",
   "metadata": {},
   "source": [
    "`readlines( )`を使用しない方が、一時的なメモリ使用量を少なく抑えられています。  \n",
    "解析環境やデータサイズを考慮して使い分けましょう。  \n"
   ]
  },
  {
   "cell_type": "markdown",
   "metadata": {},
   "source": [
    "---\n",
    "\n",
    "通常は見えませんが、ファイルには行末に改行コードという文字が存在しています。  \n",
    "これが残っているとデータ処理に影響するので、この改行コードを`strip( )`メソッドを使って削除します。  \n",
    "\n",
    "データを処理するため、取り出したデータを一列ごとに分割します。  \n",
    "分割するためには`split( )`メソッドを使います。  \n",
    "カッコ内にどこで分割するかを指定します。  \n",
    "refFlat.txtはタブ区切りのファイルですので、カッコ内にタブを意味する`\\t`を入力します。  \n"
   ]
  },
  {
   "cell_type": "code",
   "execution_count": 5,
   "metadata": {},
   "outputs": [
    {
     "name": "stdout",
     "output_type": "stream",
     "text": [
      "['ZNF639', 'NM_001375803', 'chr3', '+', '179323030', '179338583', '179328293', '179334422', '5', '179323030,179328282,179329617,179332988,179333268,', '179323291,179328351,179329728,179333123,179338583,']\n"
     ]
    }
   ],
   "source": [
    "with open('refFlat.txt') as f:\n",
    "    lines = f.readlines()\n",
    "    line = lines[0].strip()\n",
    "    cols = line.split('\\t')\n",
    "    print(cols)"
   ]
  },
  {
   "cell_type": "markdown",
   "metadata": {},
   "source": [
    "読み込んだファイルの一行目`lines[0]`の改行コードを`stirp( )`で削除して`line`という変数に格納し、  \n",
    "`line`を`split(\\t)`でタブで分割し、返されたリスト形式のデータを`cols`という変数に格納しました。  \n",
    "\n",
    "`strip( )`と`split( )`は一行で書くこともできます。"
   ]
  },
  {
   "cell_type": "code",
   "execution_count": 6,
   "metadata": {},
   "outputs": [
    {
     "name": "stdout",
     "output_type": "stream",
     "text": [
      "['ZNF639', 'NM_001375803', 'chr3', '+', '179323030', '179338583', '179328293', '179334422', '5', '179323030,179328282,179329617,179332988,179333268,', '179323291,179328351,179329728,179333123,179338583,']\n"
     ]
    }
   ],
   "source": [
    "with open('refFlat.txt') as f:\n",
    "    lines = f.readlines()\n",
    "    cols = lines[0].strip().split('\\t')\n",
    "    print(cols)"
   ]
  },
  {
   "cell_type": "markdown",
   "metadata": {},
   "source": [
    "<br>\n",
    "\n",
    "refFlatファイルの二列目はRefSeq IDです。  \n",
    "mRNAにはNM_から始まるIDが付けられています。  \n",
    "non-coding RNAにはNR_から始まるIDが付けられています。\n",
    "次にmRANだけ取り出して表示させてみます。  \n",
    "\n",
    "特定の文字列を探したい場合は、`re`モジュールの`search( )`を使います。  \n",
    "\n",
    "<br>\n",
    "\n",
    "```python\n",
    "re.search('探したい文字列', 対象の変数)\n",
    "```\n",
    "\n",
    "<br>\n",
    "\n",
    "`re`モジュールをインポートしてから使います。"
   ]
  },
  {
   "cell_type": "code",
   "execution_count": 7,
   "metadata": {
    "scrolled": true
   },
   "outputs": [
    {
     "name": "stdout",
     "output_type": "stream",
     "text": [
      "NM_001375803\n",
      "NM_002852\n",
      "NM_002851\n",
      "NM_001376627\n",
      "NM_001311175\n",
      "NM_001311168\n",
      "NM_014366\n",
      "NM_015154\n",
      "NM_015153\n",
      "NM_001286475\n",
      "NM_001365929\n",
      "NM_001365928\n",
      "NM_001366028\n",
      "NM_001330280\n",
      "NM_001365229\n",
      "NM_003678\n",
      "NM_001366680\n",
      "NM_005199\n",
      "NM_002636\n",
      "NM_001320313\n",
      "NM_001350235\n"
     ]
    }
   ],
   "source": [
    "import re\n",
    "with open('refFlat.txt') as f:\n",
    "    lines = f.readlines()\n",
    "    for line in lines[:50]: #表示の都合上最初の５０行だけ処理していますが、for line in lines:で全て処理できます\n",
    "        cols = line.strip().split('\\t')\n",
    "        if re.search('NM_', cols[1]):\n",
    "            print(cols[1])"
   ]
  },
  {
   "cell_type": "markdown",
   "metadata": {},
   "source": [
    "refFlatファイルの一列目はgene symbolです。  \n",
    "gene symbolをキーに、RefSeq IDを値とする辞書を作成し、gene symbolとRefSeq IDを紐付けしましょう。  \n",
    "ほとんどの遺伝子には複数の転写産物が存在するので、一つのキーに対して複数の値を格納するため、辞書の値はリスト形式にしてみます。  "
   ]
  },
  {
   "cell_type": "code",
   "execution_count": 8,
   "metadata": {},
   "outputs": [
    {
     "name": "stdout",
     "output_type": "stream",
     "text": [
      "ZNF639 NM_001375803,NM_016331,NM_001375807,NM_001375802,NM_001375800,NM_001375806,NM_001303426,NM_001303425,NM_001375805,NM_001375804\n",
      "PTX3 NM_002852\n",
      "PTPRZ1 NM_002851,NM_001206839,NM_001369395,NM_001206838,NM_001369396\n",
      "MADD NM_001376627,NM_001376575,NM_001376663,NM_001376637,NM_001376577,NM_001376609,NM_001376593,NM_001376599,NM_001376610,NM_001376617,NM_001376606,NM_130473,NM_130472,NM_001376653,NM_001376651,NM_001376650,NM_001376612,NM_001376645,NM_001376586,NM_001376585,NM_001376584,NM_001376635,NM_001376595,NM_130471,NM_001376583,NM_003682,NM_001376661,NM_001135943,NM_001376656,NM_001376655,NM_001376654,NM_001376625,NM_001376621,NM_001376619,NM_001376620,NM_001376613,NM_001376639,NM_001376636,NM_001376662,NM_001376607,NM_001376626,NM_130474,NM_130475,NM_001376618,NM_130470,NM_001376642,NM_001376641,NM_001376581,NM_001376660,NM_001376597,NM_001376624,NM_001376615,NM_001376623,NM_001376622,NM_001376640,NM_001376601,NM_001376628,NM_001376604,NM_001376603,NM_001376598,NM_001376596,NM_001376638,NM_001376614,NM_001376616,NM_001376644,NM_001376634,NM_001376648,NM_001376647,NM_001376649,NM_001376646,NM_001376611,NM_001376608,NM_001376659,NM_001376594,NM_001376643,NM_001376578,NM_001376582,NM_001376579,NM_001376605,NM_001376658,NM_001376602,NM_001376573,NM_001135944,NM_001376633,NM_001376632,NM_001376631,NM_001376630,NM_001376629,NM_130476,NM_001376571,NM_001376572,NM_001376574,NM_001376580,NM_001376600,NM_001376576,NM_001376652,NM_001376657\n",
      "TNFAIP8L3 NM_001311175,NM_207381\n",
      "NDUFB9 NM_001311168,NM_001278646,NM_001278645,NM_005005\n",
      "GNL3 NM_014366,NM_206825,NM_206826\n",
      "MESD NM_015154\n",
      "PHF3 NM_015153,NM_001290260,NM_001290259,NM_001370350,NM_001370349,NM_001370348\n",
      "TSBP1 NM_001286475,NM_001286475,NM_001286475,NM_006781,NM_006781,NM_006781,NM_001286475,NM_001286475,NM_001286475,NM_001286475,NM_001286474,NM_001286474,NM_001286474,NM_001286474,NM_006781,NM_001286474,NM_001286475,NM_006781,NM_006781,NM_001286474,NM_006781,NM_001286474,NM_006781,NM_001286474\n",
      "NLGN1 NM_001365929,NM_001365928,NM_001365934,NM_001365933,NM_001365932,NM_001365931,NM_001365930,NM_001365936,NM_014932,NM_001365925,NM_001365924,NM_001365923,NM_001365927,NM_001365926,NM_001365935\n"
     ]
    }
   ],
   "source": [
    "genes = {} #空の辞書を作成\n",
    "with open('refFlat.txt') as f:\n",
    "    lines = f.readlines()\n",
    "    for line in lines:\n",
    "        cols = line.strip().split('\\t')\n",
    "        if re.search('NM_', cols[1]):\n",
    "            genes.setdefault(cols[0], []) #値には空のリストを指定する\n",
    "            genes[cols[0]].append(cols[1]) \n",
    "\n",
    "line_num = 0 #表示の都合上最初の１０キー分だけ出力していますが、以下のコメントをつけている行（コメントアウト）を除けば全て表示できます。\n",
    "for symbol, refseqid_list in genes.items():\n",
    "    refseqid = ','.join(refseqid_list)\n",
    "    print(symbol, refseqid)\n",
    "    \n",
    "    line_num += 1 #全て出力する場合不要\n",
    "    if line_num > 10: #全て出力する場合不要\n",
    "        break #全て出力する場合不要"
   ]
  },
  {
   "cell_type": "markdown",
   "metadata": {},
   "source": [
    "情報をファイルに出力して保存する場合も、`with`と`open`を使用します。  \n",
    "出力する場合は、ファイルハンドルの後ろに出力方法を指定する必要があります。  \n",
    "\n",
    "<br>\n",
    "\n",
    "```python\n",
    "with open(出力ファイルパス, '出力方法') as ファイルオブジェクト:\n",
    "```\n",
    "\n",
    "<br>\n",
    "\n",
    "ファイルの新規作成は`w`を出力方法に指定します。  \n",
    "この場合、指定したファイル名が存在しない場合は、新たにファイルを作成してくれます。  \n",
    "また、すでに指定したファイル名が存在する場合は内容が上書きされます。  \n",
    "\n",
    "`a`を指定すると、指定したファイルに追加書き込みを行います。  \n",
    "\n",
    "`refFlat_out1.txt`というファイルに、gene symbolとRefSeq IDを出力します。"
   ]
  },
  {
   "cell_type": "code",
   "execution_count": 9,
   "metadata": {},
   "outputs": [],
   "source": [
    "genes = {} #空の辞書を作成\n",
    "with open('refFlat.txt') as f:\n",
    "    lines = f.readlines()\n",
    "    for line in lines:\n",
    "        cols = line.strip().split('\\t')\n",
    "        if re.search('NM_', cols[1]):\n",
    "            genes.setdefault(cols[0], []) #値には空のリストを指定する\n",
    "            genes[cols[0]].append(cols[1]) \n",
    "\n",
    "with open('refFlat_out1.txt', 'w') as out:\n",
    "    for symbol, refseqid_list in genes.items():\n",
    "        refseqid = ','.join(refseqid_list)\n",
    "        print(symbol, refseqid, sep='\\t', file=out)"
   ]
  },
  {
   "cell_type": "markdown",
   "metadata": {},
   "source": [
    "`refFlat_out1.txt`というファイルが作成されていますので、excel等で開いて中身を確認してみましょう。  \n",
    "\n",
    "`print( )`のカッコ内に、`file=出力ファイルオブジェクト`で出力先を指定します。  \n",
    "`sep=`で、`print( )`内の出力内容の区切り方を指定します。  \n",
    "今回は、gene symbolとRefSeq IDをタブで区切って出力したかったので、`sep='\\t'`と記載しています。  "
   ]
  }
 ],
 "metadata": {
  "kernelspec": {
   "display_name": "Python 3",
   "language": "python",
   "name": "python3"
  },
  "language_info": {
   "codemirror_mode": {
    "name": "ipython",
    "version": 3
   },
   "file_extension": ".py",
   "mimetype": "text/x-python",
   "name": "python",
   "nbconvert_exporter": "python",
   "pygments_lexer": "ipython3",
   "version": "3.8.5"
  }
 },
 "nbformat": 4,
 "nbformat_minor": 4
}
