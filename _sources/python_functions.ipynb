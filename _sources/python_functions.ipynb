{
 "cells": [
  {
   "cell_type": "code",
   "execution_count": 12,
   "metadata": {},
   "outputs": [
    {
     "name": "stdout",
     "output_type": "stream",
     "text": [
      "Counter({3: 3, 4: 2, 0: 1, 1: 1, 2: 1})\n",
      "[(3, 3), (4, 2)]\n",
      "Counter({' ': 3, 'i': 2, 's': 2, 'T': 1, 'h': 1, 'a': 1, 'p': 1, 'e': 1, 'n': 1, '.': 1})\n"
     ]
    }
   ],
   "source": [
    "#Counter\n",
    "from collections import Counter\n",
    "a = [0, 1, 2, 3, 3, 3, 4, 4]\n",
    "print(Counter(a))\n",
    "print(Counter(a).most_common(2))\n",
    "\n",
    "b = 'This is a pen.'\n",
    "print(Counter(b))"
   ]
  },
  {
   "cell_type": "code",
   "execution_count": 4,
   "metadata": {
    "scrolled": true
   },
   "outputs": [
    {
     "name": "stdout",
     "output_type": "stream",
     "text": [
      "defaultdict(<class 'int'>, {'sample1': 100})\n",
      "defaultdict(<class 'list'>, {'sample1': [200]})\n",
      "defaultdict(<function <lambda> at 0x113c02940>, {'sample1': {'TP53': 300, 'KRAS': 500}})\n"
     ]
    }
   ],
   "source": [
    "#defaultditc() 存在しないキーの時にエラー出してくれないのでsetdefaultのほうがすき\n",
    "from collections import defaultdict\n",
    "a = defaultdict(int)\n",
    "a['sample1'] = 100\n",
    "print(a)\n",
    "\n",
    "b = defaultdict(list)\n",
    "b['sample1'].append(200)\n",
    "print(b)\n",
    "\n",
    "c = defaultdict(lambda: dict())\n",
    "c['sample1']['TP53'] = 300\n",
    "c['sample1']['KRAS'] = 500\n",
    "print(c)"
   ]
  },
  {
   "cell_type": "code",
   "execution_count": 5,
   "metadata": {},
   "outputs": [
    {
     "name": "stdout",
     "output_type": "stream",
     "text": [
      "53\n"
     ]
    }
   ],
   "source": [
    "#__sizeof__() 単位はbyte\n",
    "a = 'test'\n",
    "print(a.__sizeof__())"
   ]
  },
  {
   "cell_type": "code",
   "execution_count": null,
   "metadata": {},
   "outputs": [],
   "source": []
  }
 ],
 "metadata": {
  "kernelspec": {
   "display_name": "Python 3",
   "language": "python",
   "name": "python3"
  },
  "language_info": {
   "codemirror_mode": {
    "name": "ipython",
    "version": 3
   },
   "file_extension": ".py",
   "mimetype": "text/x-python",
   "name": "python",
   "nbconvert_exporter": "python",
   "pygments_lexer": "ipython3",
   "version": "3.8.5"
  }
 },
 "nbformat": 4,
 "nbformat_minor": 4
}
