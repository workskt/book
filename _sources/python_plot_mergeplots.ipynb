{
 "cells": [
  {
   "cell_type": "markdown",
   "metadata": {},
   "source": [
    "# 共通のx軸に二つのプロットを表示する"
   ]
  },
  {
   "cell_type": "code",
   "execution_count": 1,
   "metadata": {},
   "outputs": [
    {
     "data": {
      "image/png": "[encoded data removed]",
      "text/plain": [
       "<Figure size 432x288 with 2 Axes>"
      ]
     },
     "metadata": {
      "needs_background": "light"
     },
     "output_type": "display_data"
    }
   ],
   "source": [
    "%matplotlib inline\n",
    "from matplotlib import pyplot as plt\n",
    "\n",
    "data_x = [100, 200, 300, 400] #数値は適当\n",
    "plot_data = [0.9, 0.5, 0.3, 0.8] #数値は適当\n",
    "bar_data = [100, 500, 200, 300] #数値は適当\n",
    "data_x_label = ['A', 'B', 'C', 'D'] #x軸を数値でなく、文字列にしたいとき用\n",
    "\n",
    "fig, ax1 = plt.subplots() #Figureオブジェクト fig と一つ目のAxesオブジェクト ax1 を作成\n",
    "ax2 = ax1.twinx() #二つ目のAxesオブジェクト ax2 と ax1 を連結する\n",
    "\n",
    "fig.subplots_adjust(right=0.6) #凡例のために右の余白を広くしておく\n",
    "\n",
    "ax1.plot(data_x, plot_data, linewidth=2, color='red', label='correlation coefficient') #ax1に折れ線グラフを作成\n",
    "ax2.bar(data_x, bar_data, width=70, label='average') #ax2に棒グラフを作成。widthはx軸のデータ間隔を考慮して指定するとよい\n",
    "\n",
    "ax1.set_zorder(2) #ax1のzorderを指定。ax1を手前にする。\n",
    "ax2.set_zorder(1) #ax2のzorderを指定。ax2を後ろにする。\n",
    "\n",
    "ax1.patch.set_alpha(0) #ax1の図を透過させる。そうしないと奥のax1が見えなくなるため。\n",
    "\n",
    "ax1.legend(bbox_to_anchor=(1.1,1),loc='upper left',borderaxespad=0.5, fontsize=10) #ax1の凡例の位置を指定\n",
    "ax2.legend(bbox_to_anchor=(1.1,0.9),loc='upper left',borderaxespad=0.5, fontsize=10) #ax2の凡例の位置を指定\n",
    "\n",
    "ax1.set_xlabel('example')\n",
    "ax1.set_xticks(data_x) #x軸の目盛りはデータが存在するところだけ表示させるようにする\n",
    "ax1.set_xticklabels(data_x_label) #x軸の数値に意味がない場合、文字列を表示させてもよい。この場合でもset_xticks()は必要\n",
    "\n",
    "ax1.set_ylabel('corrlation coefficient')\n",
    "ax2.set_ylabel('average')\n",
    "\n",
    "plt.show()\n",
    "plt.close()"
   ]
  },
  {
   "cell_type": "markdown",
   "metadata": {},
   "source": [
    "**pyplot**モジュール　**subplots( )**メソッド　\n",
    "\n",
    "・図のサイズ、配置等を指定する。\n",
    "\n",
    "・戻り値はFigureオブジェクトとAxesオブジェクト。\n",
    "\n",
    "・**figsize=( )**のデフォルトは(6.4,4.8)\n",
    "\n",
    "<br>\n",
    "\n",
    "**pyplot**モジュール　**subplots_adjust( )**メソッド\n",
    "\n",
    "・余白のサイズを指定する。  \n",
    "\n",
    "・**subplots_adjust(right=0.7)**のように余白の位置と、余白の開始位置を指定する。  \n",
    "\n",
    "・rightのデフォルトは0.9\n",
    "\n",
    "<br>\n",
    "\n",
    "**twinx( )**\n",
    "\n",
    "・二つのAxesオブジェクトを連結する。\n",
    "\n",
    "<br>\n",
    "\n",
    "**set_zorder( )**\n",
    "\n",
    "・どちらのAxesオブジェクトを手前にするか指定する。数値が後の方が手前にくる。\n",
    "\n",
    "<br>\n",
    "\n",
    "**patch.set_alpha**\n",
    "\n",
    "・図の透過度を指定する。0は透明。1は透過しない。\n",
    "\n",
    "<br>\n",
    "\n",
    "**legend( )**\n",
    "\n",
    "・**bbox_to_anchor(x,y)**で凡例の座標を指定。(0,0)が図の原点。(1,1)だと図の右上。1超えてもよい。\n",
    "\n",
    "・**loc**は凡例のどの部分を**bbox_to_anchor(x,y)**で指示した座標に置くか指定する。**upper right**にすると凡例の枠の右上が指定した座標にくるように配置される。**center**だと凡例の中央。\n",
    "\n",
    "・**borderaxespad**で図の枠と凡例の枠の距離を指定する。0だと図の枠と凡例の枠が接する。\n",
    "\n",
    "\n",
    "<br>\n",
    "\n",
    "**set_xlabel( )**, **set_ylabel( )**\n",
    "\n",
    "・x軸、y軸のラベルをつける。\n",
    "\n",
    "・Axesオブジェクト用\n",
    "\n",
    "<br>\n",
    "\n",
    "**set_xticks( )**, **set_yticks( )**\n",
    "\n",
    "・x軸、y軸の目盛りの設定をする。\n",
    "\n",
    "・Axesオブジェクト用\n",
    "\n",
    "<br>\n",
    "\n",
    "**set_xticklabels( )**\n",
    "\n",
    "・x軸のラベルを指定する\n",
    "\n",
    "・Axesオブジェクト用\n",
    "\n",
    "<br>\n",
    "\n",
    "---\n",
    "\n",
    "凡例の位置を上にしても見栄えがよくていいかも。"
   ]
  },
  {
   "cell_type": "markdown",
   "metadata": {},
   "source": [
    "ax1.legend(bbox_to_anchor=(1,1.1),loc='lower right', borderaxespad=0 , fontsize=10) #ax1の凡例の位置を指定\n",
    "\n",
    "ax2.legend(bbox_to_anchor=(1,1),loc='lower right', borderaxespad=0, fontsize=10) #ax2の凡例の位置を指定"
   ]
  }
 ],
 "metadata": {
  "kernelspec": {
   "display_name": "Python 3",
   "language": "python",
   "name": "python3"
  },
  "language_info": {
   "codemirror_mode": {
    "name": "ipython",
    "version": 3
   },
   "file_extension": ".py",
   "mimetype": "text/x-python",
   "name": "python",
   "nbconvert_exporter": "python",
   "pygments_lexer": "ipython3",
   "version": "3.8.5"
  }
 },
 "nbformat": 4,
 "nbformat_minor": 4
}
