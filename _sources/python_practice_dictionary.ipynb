{
 "cells": [
  {
   "cell_type": "markdown",
   "metadata": {},
   "source": [
    "# 辞書\n",
    "\n",
    "---\n",
    "\n",
    "## 辞書について\n",
    "\n",
    "<br>\n",
    "\n",
    "ある複数の要素を紐づけて、その組み合わせを格納した変数を**辞書**と言います。  \n",
    "辞書は**キー**と**値**から構成されます。  \n",
    "キーと値の組み合わせを辞書に代入した後、キーを指定すると、それに対応する値を返してくれます。  \n",
    "以下のようにして辞書にキーと値を代入します。  \n",
    "\n",
    "<br>\n",
    "\n",
    "```python\n",
    "辞書の作成\n",
    "変数名 = {キー1:値1, キー2:値2,　キー3:値3}\n",
    "```\n",
    "\n",
    "<br>\n",
    "\n",
    "キーと値の組み合わせはコロン`:`で繋ぎ、それぞれの組み合わせはカンマ`,`で区切ります。  \n",
    "この組み合わせは何個でも代入することができます。  \n",
    "\n",
    "多くの遺伝子には複数の転写産物が存在し、その転写産物にはIDがつけられています。  \n",
    "キーをGene Symbol、値にrefSeq IDを紐づけた辞書を例として作成してみます。  "
   ]
  },
  {
   "cell_type": "code",
   "execution_count": 2,
   "metadata": {},
   "outputs": [
    {
     "name": "stdout",
     "output_type": "stream",
     "text": [
      "{'TP53': 'NM_000546', 'EGFR': 'NM_001346897', 'MYC': 'NM_001354870', 'CDKN1A': 'NM_000389'}\n"
     ]
    }
   ],
   "source": [
    "genes_dict = {'TP53': 'NM_000546', 'EGFR': 'NM_001346897', 'MYC': 'NM_001354870', 'CDKN1A': 'NM_000389'}\n",
    "print(genes_dict)"
   ]
  },
  {
   "cell_type": "markdown",
   "metadata": {},
   "source": [
    "作成した辞書型の変数`genes_dict`を`print()`で出力すると、辞書の中身が表示されます。\n",
    "> <注>これらの遺伝子の転写産物は上記以外にも存在しますが、ここでは例として一つだけ使用しています。"
   ]
  },
  {
   "cell_type": "markdown",
   "metadata": {},
   "source": [
    "---\n",
    "\n",
    "## 辞書からキー、値を取り出す\n",
    "\n",
    "<br>\n",
    "\n",
    "キーを指定して、そのキーに紐づけられた要素を取得することができます。  \n",
    "辞書の変数に`[キーの名前]`をつけます。\n",
    "\n",
    "<br>\n",
    "\n",
    "```\n",
    "値の取り出し方\n",
    "変数名[キーの名前]\n",
    "```\n",
    "\n",
    "<br>\n",
    "\n",
    "例えば、辞書型変数`genes_dict`から、キー`EGFR`に対応する値を取得するには以下のようにします。"
   ]
  },
  {
   "cell_type": "code",
   "execution_count": 3,
   "metadata": {},
   "outputs": [
    {
     "name": "stdout",
     "output_type": "stream",
     "text": [
      "NM_001346897\n"
     ]
    }
   ],
   "source": [
    "value = genes_dict['EGFR']\n",
    "print(value)"
   ]
  },
  {
   "cell_type": "markdown",
   "metadata": {},
   "source": [
    "キーに`'EGFR'`を指定することで、EGFRの転写産物ID`NM_001346897`を取得できました。\n",
    "<br>"
   ]
  },
  {
   "cell_type": "markdown",
   "metadata": {},
   "source": [
    "<br>  \n",
    "\n",
    "辞書を使っていると、ある一つのキーや値だけでなく、全てのキーや値を取り出して使いたいと思うことがしばしばあります。  \n",
    "辞書から**すべてのキーを取り出したいとき**には、辞書型のメソッド（辞書型のデータを処理する関数)である`keys()`を使用します。  \n",
    "\n",
    "```python\n",
    "keys()メソッドの使い方\n",
    "辞書型変数名.keys()\n",
    "```\n",
    "<br>"
   ]
  },
  {
   "cell_type": "code",
   "execution_count": 4,
   "metadata": {},
   "outputs": [
    {
     "name": "stdout",
     "output_type": "stream",
     "text": [
      "TP53\n",
      "EGFR\n",
      "MYC\n",
      "CDKN1A\n"
     ]
    }
   ],
   "source": [
    "for key in genes_dict.keys():\n",
    "    print(key)"
   ]
  },
  {
   "cell_type": "markdown",
   "metadata": {},
   "source": [
    "for文を使い、`keys()`で辞書`genes_dict`のキーをひとつずつ取り出し、`print()`で出力しました。"
   ]
  },
  {
   "cell_type": "markdown",
   "metadata": {},
   "source": [
    "<br>\n",
    "\n",
    "辞書から**すべての要素を取り出したいとき**には、`values()`メソッドを使用します。"
   ]
  },
  {
   "cell_type": "code",
   "execution_count": 5,
   "metadata": {},
   "outputs": [
    {
     "name": "stdout",
     "output_type": "stream",
     "text": [
      "NM_000546\n",
      "NM_001346897\n",
      "NM_001354870\n",
      "NM_000389\n"
     ]
    }
   ],
   "source": [
    "for value in genes_dict.values():\n",
    "    print(value)"
   ]
  },
  {
   "cell_type": "markdown",
   "metadata": {},
   "source": [
    "for文を使い、`values()`で辞書`genes_dict`の要素をひとつずつ取り出し、`print()`で出力しました。"
   ]
  },
  {
   "cell_type": "markdown",
   "metadata": {},
   "source": [
    "<br>\n",
    "\n",
    "辞書から**キーと値の両方を同時に取り出したい**ときは、`items()`を使用します。  "
   ]
  },
  {
   "cell_type": "code",
   "execution_count": 6,
   "metadata": {
    "scrolled": false
   },
   "outputs": [
    {
     "name": "stdout",
     "output_type": "stream",
     "text": [
      "キー: TP53 \t値: NM_000546\n",
      "キー: EGFR \t値: NM_001346897\n",
      "キー: MYC \t値: NM_001354870\n",
      "キー: CDKN1A \t値: NM_000389\n"
     ]
    }
   ],
   "source": [
    "for key, value in genes_dict.items():\n",
    "    print('キー:', key, '\\t値:', value)"
   ]
  },
  {
   "cell_type": "markdown",
   "metadata": {},
   "source": [
    "キーと値の両方を受け取ることができました。  \n",
    "`\\t`はタブ区切りを意味します。  \n",
    "出力の際、間隔を開けて見やすくするためにタブを入れました。\n",
    "\n",
    "`dict()`はキーと値の二つの値を返しますので、`key`と`value`という二つの変数で受け取っています。"
   ]
  },
  {
   "cell_type": "markdown",
   "metadata": {},
   "source": [
    "---\n",
    "\n",
    "## あるキーを持っているかどうか調べる\n",
    "\n",
    "<br>\n",
    "\n",
    "辞書があるキーを持っているかどうかを調べるには、`in`を使います。"
   ]
  },
  {
   "cell_type": "code",
   "execution_count": 7,
   "metadata": {},
   "outputs": [
    {
     "name": "stdout",
     "output_type": "stream",
     "text": [
      "EGFR\tYES\n",
      "ERBB2\tNO\n"
     ]
    }
   ],
   "source": [
    "if 'EGFR' in genes_dict:\n",
    "    print('EGFR\\tYES')\n",
    "else:\n",
    "    print('EGFR\\tNO')\n",
    "\n",
    "if 'ERBB2' in genes_dict:\n",
    "    print('ERBB2\\tYES')\n",
    "else:\n",
    "    print('ERBB2\\tNO')"
   ]
  },
  {
   "cell_type": "markdown",
   "metadata": {},
   "source": [
    "<br>\n",
    "\n",
    "要素に存在するかどうかを調べるためには、`values()`を合わせて使います。"
   ]
  },
  {
   "cell_type": "code",
   "execution_count": 8,
   "metadata": {},
   "outputs": [
    {
     "name": "stdout",
     "output_type": "stream",
     "text": [
      "NM_000546\tYES\n"
     ]
    }
   ],
   "source": [
    "if 'NM_000546' in genes_dict.values():\n",
    "    print('NM_000546\\tYES')\n",
    "\n",
    "if 'NM_000000' in genes_dict.values():\n",
    "    print('NM_000000\\tYES')"
   ]
  },
  {
   "cell_type": "markdown",
   "metadata": {},
   "source": [
    "---\n",
    "\n",
    "## 辞書からキーや要素を取り出してリスト形式にする\n",
    "\n",
    "<br>\n",
    "\n",
    "`keys()`や`values()`で返されるデータは`dict_keys`という形式のものです。"
   ]
  },
  {
   "cell_type": "code",
   "execution_count": 9,
   "metadata": {
    "scrolled": true
   },
   "outputs": [
    {
     "name": "stdout",
     "output_type": "stream",
     "text": [
      "キー dict_keys(['TP53', 'EGFR', 'MYC', 'CDKN1A'])\n",
      "型 <class 'dict_keys'>\n"
     ]
    }
   ],
   "source": [
    "c = genes_dict.keys()\n",
    "print('キー', c)\n",
    "print('型', type(c))"
   ]
  },
  {
   "cell_type": "markdown",
   "metadata": {},
   "source": [
    "`type()`関数を使うと、変数がどのような型であるかを調べることができます。  \n",
    "`keys()`で返されるデータは`dict_keys`という型であると教えてくれます。  \n",
    "<br>\n",
    "\n",
    "もしキーの情報をリストに変更したければ、`list()`関数を使用します。  "
   ]
  },
  {
   "cell_type": "code",
   "execution_count": 10,
   "metadata": {
    "scrolled": false
   },
   "outputs": [
    {
     "name": "stdout",
     "output_type": "stream",
     "text": [
      "['TP53', 'EGFR', 'MYC', 'CDKN1A']\n",
      "<class 'list'>\n"
     ]
    }
   ],
   "source": [
    "d = list(c)\n",
    "print(d)\n",
    "print(type(d))"
   ]
  },
  {
   "cell_type": "markdown",
   "metadata": {},
   "source": [
    "---\n",
    "\n",
    "## setdefaultで辞書に新しいキーと要素を追加する\n",
    "\n",
    "<br>\n",
    "\n",
    "辞書に新しいキーと値を追加したい場合は、以下のように書きます。  "
   ]
  },
  {
   "cell_type": "code",
   "execution_count": 12,
   "metadata": {},
   "outputs": [
    {
     "name": "stdout",
     "output_type": "stream",
     "text": [
      "{'TP53': 'NM_000546'}\n"
     ]
    }
   ],
   "source": [
    "genes_dict = {} #空の辞書を作成\n",
    "genes_dict['TP53'] = 'NM_000546'\n",
    "print(genes_dict)"
   ]
  },
  {
   "cell_type": "markdown",
   "metadata": {},
   "source": [
    "辞書に新しいキーと値の組み合わせが格納されました。  \n",
    "この書き方では、同じキーにさらに値を代入した場合、値は上書きされてしまいます。　　\n"
   ]
  },
  {
   "cell_type": "code",
   "execution_count": 13,
   "metadata": {},
   "outputs": [
    {
     "name": "stdout",
     "output_type": "stream",
     "text": [
      "{'TP53': 'NM_001126116'}\n"
     ]
    }
   ],
   "source": [
    "genes_dict = {} #空の辞書を作成\n",
    "genes_dict['TP53'] = 'NM_000546'\n",
    "genes_dict['TP53'] = 'NM_001126116'\n",
    "print(genes_dict)"
   ]
  },
  {
   "cell_type": "markdown",
   "metadata": {},
   "source": [
    "すでに辞書がキーと値を持っている場合、上書きされてしまうと都合が悪い場合もあります。  \n",
    "その場合は`setdefault`を使います。  \n",
    "\n",
    "<br>\n",
    "\n",
    "```python\n",
    "辞書.setdefault(キー, キーが存在しない場合にそのキーに対応する値)\n",
    "```\n",
    "\n",
    "<br>\n",
    "\n",
    "`setdefault`では、キーが存在していない場合、カッコ内の二つ目に指定した引数を値として格納します。  \n",
    "**もしキーが存在していた場合、何もしません。**  \n"
   ]
  },
  {
   "cell_type": "code",
   "execution_count": 14,
   "metadata": {},
   "outputs": [
    {
     "name": "stdout",
     "output_type": "stream",
     "text": [
      "{'TP53': 'NM_000546'}\n",
      "{'TP53': 'NM_000546'}\n"
     ]
    }
   ],
   "source": [
    "genes_dict = {} #空の辞書を作成\n",
    "genes_dict.setdefault('TP53', 'NM_000546')\n",
    "print(genes_dict)\n",
    "\n",
    "genes_dict.setdefault('TP53', 'NM_001126116')\n",
    "print(genes_dict)"
   ]
  },
  {
   "cell_type": "markdown",
   "metadata": {},
   "source": [
    "2回目の`setdefault()`では、すでにキーが存在しているので何もしていません。  \n",
    "\n",
    "キーがすでに存在する場合、値を追加して紐付けたい場合もあります。  \n",
    "その場合は、例えば値に空のリストを作成します。  "
   ]
  },
  {
   "cell_type": "code",
   "execution_count": 16,
   "metadata": {},
   "outputs": [
    {
     "name": "stdout",
     "output_type": "stream",
     "text": [
      "{'TP53': ['NM_000546']}\n",
      "{'TP53': ['NM_000546', 'NM_001126116']}\n"
     ]
    }
   ],
   "source": [
    "genes_dict = {} #空の辞書を作成\n",
    "genes_dict.setdefault('TP53', []) #キーに対して空のリストを作成\n",
    "genes_dict['TP53'].append('NM_000546') #作成した空のリストにappendで要素を追加\n",
    "print(genes_dict)\n",
    "\n",
    "genes_dict.setdefault('TP53', []) #もしキーが存在していなければ、空のリストを作成。キーが存在していれば何もしない。\n",
    "genes_dict['TP53'].append('NM_001126116')\n",
    "print(genes_dict)"
   ]
  },
  {
   "cell_type": "markdown",
   "metadata": {},
   "source": [
    "値に辞書を指定することもできます。  "
   ]
  },
  {
   "cell_type": "code",
   "execution_count": 17,
   "metadata": {},
   "outputs": [
    {
     "name": "stdout",
     "output_type": "stream",
     "text": [
      "{'patient1': {'TP53': 100}}\n",
      "{'patient1': {'TP53': 100, 'EGFR': 200}}\n",
      "{'patient1': {'TP53': 100, 'EGFR': 200}, 'patient2': {'TP53': 300}}\n"
     ]
    }
   ],
   "source": [
    "genes_dict = {} #空の辞書を作成\n",
    "genes_dict.setdefault('patient1', {}) #キーに対して空の辞書を作成\n",
    "genes_dict['patient1'].setdefault('TP53', 100) #作成した辞書にさらにsetdefaultでキーと値を格納\n",
    "print(genes_dict)\n",
    "\n",
    "genes_dict.setdefault('patient1', {}) #もしキーが存在していなければ、空の辞書を作成\n",
    "genes_dict['patient1'].setdefault('EGFR', 200) #作成した辞書にさらにsetdefaultでキーと値を格納\n",
    "print(genes_dict)\n",
    "\n",
    "genes_dict.setdefault('patient2', {}) #もしキーが存在していなければ、空の辞書を作成\n",
    "genes_dict['patient2'].setdefault('TP53', 300) #作成した辞書にさらにsetdefaultでキーと値を格納\n",
    "print(genes_dict)\n"
   ]
  },
  {
   "cell_type": "markdown",
   "metadata": {},
   "source": [
    "サンプルごとに全遺伝子の発現量を格納した辞書を作るときなどに役に立ちます。  "
   ]
  }
 ],
 "metadata": {
  "kernelspec": {
   "display_name": "Python 3",
   "language": "python",
   "name": "python3"
  },
  "language_info": {
   "codemirror_mode": {
    "name": "ipython",
    "version": 3
   },
   "file_extension": ".py",
   "mimetype": "text/x-python",
   "name": "python",
   "nbconvert_exporter": "python",
   "pygments_lexer": "ipython3",
   "version": "3.8.5"
  }
 },
 "nbformat": 4,
 "nbformat_minor": 4
}
