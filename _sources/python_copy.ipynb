{
 "cells": [
  {
   "cell_type": "markdown",
   "metadata": {},
   "source": [
    "# copy\n",
    "\n",
    "---\n",
    "\n",
    "`a`という名前のリストや辞書を編集したい場合、いったん別の名前の変数である`b`に、`=`を使って格納するとします。  \n",
    "その後`b`だけ編集した場合、pythonでは元の`a`も同様に編集されてしまいます。"
   ]
  },
  {
   "cell_type": "code",
   "execution_count": 50,
   "metadata": {},
   "outputs": [
    {
     "name": "stdout",
     "output_type": "stream",
     "text": [
      "リストa ['e', 'b', 'c', 'd'] 4514472320\n",
      "リストb ['e', 'b', 'c', 'd'] 4514472320\n"
     ]
    }
   ],
   "source": [
    "a = ['a', 'b', 'c', 'd']\n",
    "b = a\n",
    "a[0] = 'e'\n",
    "print('リストa', a, id(a))\n",
    "print('リストb', b, id(b))"
   ]
  },
  {
   "cell_type": "markdown",
   "metadata": {},
   "source": [
    "`b = a`でリスト`a`をリスト`b`にコピー(?)してから、リスト`a`の最初の要素を`e`に変更しました。  \n",
    "しかし、リスト`b`の最初の要素も`e`に変更されてしまっていることがわかります。"
   ]
  },
  {
   "cell_type": "code",
   "execution_count": 3,
   "metadata": {},
   "outputs": [
    {
     "name": "stdout",
     "output_type": "stream",
     "text": [
      "辞書a {'A': 4, 'B': 2, 'C': 3, 'D': 4} 4561549120\n",
      "辞書b {'A': 4, 'B': 2, 'C': 3, 'D': 4} 4561549120\n"
     ]
    }
   ],
   "source": [
    "a = {'A': 1, 'B': 2, 'C':3, 'D': 4}\n",
    "b = a\n",
    "b['A'] = 4\n",
    "print('辞書a', a, id(a))\n",
    "print('辞書b', b, id(b))"
   ]
  },
  {
   "cell_type": "markdown",
   "metadata": {},
   "source": [
    "辞書の場合でも同様です。  \n",
    "辞書`b`のキー`A`の値を`4`に変更すると、辞書`a`のキー`A`の値も`4`になってしまいました。"
   ]
  },
  {
   "cell_type": "markdown",
   "metadata": {},
   "source": [
    "---\n",
    "`sorted()`を使って、リスト`a`を降順にソートしたものをリスト`b`に格納してから、リスト`b`の要素を変更してみます。"
   ]
  },
  {
   "cell_type": "code",
   "execution_count": 48,
   "metadata": {},
   "outputs": [
    {
     "name": "stdout",
     "output_type": "stream",
     "text": [
      "リストa ['a', 'b', 'c', 'd'] 4512066112\n",
      "リストb ['d', 'c', 'b', 'a'] 4513688960\n"
     ]
    }
   ],
   "source": [
    "a = ['a', 'b', 'c', 'd']\n",
    "b = sorted(a, reverse=True)\n",
    "print('リストa', a, id(a))\n",
    "print('リストb', b, id(b))"
   ]
  },
  {
   "cell_type": "markdown",
   "metadata": {},
   "source": [
    "このように、sorted()関数を使って処理したものを他の変数に格納すれば、独立した変数として処理することができます。"
   ]
  },
  {
   "cell_type": "code",
   "execution_count": 4,
   "metadata": {},
   "outputs": [
    {
     "name": "stdout",
     "output_type": "stream",
     "text": [
      "リストa ['d', 'c', 'b', 'a'] 4560908096\n",
      "リストb ['d', 'c', 'b', 'a'] 4560908096\n"
     ]
    }
   ],
   "source": [
    "a = ['a', 'b', 'c', 'd']\n",
    "b = a\n",
    "b.sort(reverse=True)\n",
    "print('リストa', a, id(a))\n",
    "print('リストb', b, id(b))"
   ]
  },
  {
   "cell_type": "markdown",
   "metadata": {},
   "source": [
    "しかし、いったんリスト`a`をリスト`b`に代入した後に、リストのメソッドである`sort`を使った場合は、同一のオブジェクトとして扱われるようです。"
   ]
  },
  {
   "cell_type": "markdown",
   "metadata": {},
   "source": [
    "---\n",
    "\n",
    "オブジェクトをコピーしたい場合は、`copy`モジュールの`copy`メソッドを使用します。"
   ]
  },
  {
   "cell_type": "code",
   "execution_count": 47,
   "metadata": {},
   "outputs": [
    {
     "name": "stdout",
     "output_type": "stream",
     "text": [
      "リストa ['a', 'b', 'c', 'd'] 4513630656\n",
      "リストb ['e', 'b', 'c', 'd'] 4514405056\n"
     ]
    }
   ],
   "source": [
    "import copy\n",
    "a = ['a', 'b', 'c', 'd']\n",
    "b = copy.copy(a)\n",
    "b[0] = 'e'\n",
    "print('リストa', a, id(a))\n",
    "print('リストb', b, id(b))"
   ]
  },
  {
   "cell_type": "markdown",
   "metadata": {},
   "source": [
    "リスト`a`とリスト`b`を独立して処理することができました。"
   ]
  },
  {
   "cell_type": "code",
   "execution_count": 45,
   "metadata": {},
   "outputs": [
    {
     "name": "stdout",
     "output_type": "stream",
     "text": [
      "リストa ['a', 'b', 'c', 'd'] 4513071808\n",
      "リストb ['d', 'c', 'b', 'a'] 4513038272\n"
     ]
    }
   ],
   "source": [
    "a = ['a', 'b', 'c', 'd']\n",
    "b = copy.copy(a)\n",
    "b.sort(reverse=True)\n",
    "print('リストa', a, id(a))\n",
    "print('リストb', b, id(b))"
   ]
  },
  {
   "cell_type": "markdown",
   "metadata": {},
   "source": [
    "`copy`メソッドでコピーしたあと、リスト`b`を`sort`メソッドで編集すれば、リスト`a`とリスト`b`を独立に扱うことができました。"
   ]
  },
  {
   "cell_type": "code",
   "execution_count": 22,
   "metadata": {},
   "outputs": [
    {
     "name": "stdout",
     "output_type": "stream",
     "text": [
      "{'a': 1, 'b': 2, 'c': 3, 'd': 4, 'e': {'x': 5}}\n"
     ]
    }
   ],
   "source": [
    "a = {'a': 1, 'b': 2, 'c':3, 'd': 4}\n",
    "a.setdefault('e', {})\n",
    "a['e'].setdefault('x', 5)\n",
    "print(a)"
   ]
  },
  {
   "cell_type": "code",
   "execution_count": 42,
   "metadata": {},
   "outputs": [
    {
     "name": "stdout",
     "output_type": "stream",
     "text": [
      "辞書a {'a': 1, 'b': 2, 'c': 3, 'd': 4, 'e': {'x': 5, 'y': 6}} 4514472000\n",
      "辞書b {'a': 1, 'b': 2, 'c': 3, 'd': 4, 'e': {'x': 5, 'y': 6}} 4514406272\n",
      "辞書a {'a': 1, 'b': 2, 'c': 3, 'd': 4, 'e': {'x': 10, 'y': 6}} 4514472000\n",
      "辞書b {'a': 1, 'b': 2, 'c': 3, 'd': 4, 'e': {'x': 10, 'y': 6}} 4514406272\n"
     ]
    }
   ],
   "source": [
    "a = {'a': 1, 'b': 2, 'c':3, 'd': 4}\n",
    "a.setdefault('e', {})\n",
    "a['e'].setdefault('x', 5)\n",
    "a['e'].setdefault('y', 6)\n",
    "\n",
    "b = copy.copy(a)\n",
    "print('辞書a', a, id(a))\n",
    "print('辞書b', b, id(b))\n",
    "\n",
    "b['e']['x'] = 10\n",
    "print('辞書a', a, id(a))\n",
    "print('辞書b', b, id(b))"
   ]
  },
  {
   "cell_type": "code",
   "execution_count": 43,
   "metadata": {},
   "outputs": [
    {
     "name": "stdout",
     "output_type": "stream",
     "text": [
      "辞書a {'a': 1, 'b': 2, 'c': 3, 'd': 4, 'e': {'x': 5, 'y': 6}} 4514473856\n",
      "辞書b {'a': 1, 'b': 2, 'c': 3, 'd': 4, 'e': {'x': 5, 'y': 6}} 4514473920\n",
      "辞書a {'a': 1, 'b': 2, 'c': 3, 'd': 4, 'e': {'x': 5, 'y': 6}} 4514473856\n",
      "辞書b {'a': 1, 'b': 2, 'c': 3, 'd': 4, 'e': {'x': 10, 'y': 6}} 4514473920\n"
     ]
    }
   ],
   "source": [
    "a = {'a': 1, 'b': 2, 'c':3, 'd': 4}\n",
    "a.setdefault('e', {})\n",
    "a['e'].setdefault('x', 5)\n",
    "a['e'].setdefault('y', 6)\n",
    "\n",
    "b = copy.deepcopy(a)\n",
    "print('辞書a', a, id(a))\n",
    "print('辞書b', b, id(b))\n",
    "\n",
    "b['e']['x'] = 10\n",
    "print('辞書a', a, id(a))\n",
    "print('辞書b', b, id(b))"
   ]
  },
  {
   "cell_type": "code",
   "execution_count": 4,
   "metadata": {},
   "outputs": [
    {
     "name": "stdout",
     "output_type": "stream",
     "text": [
      "文字a tokyo 4536992112\n",
      "文字b tokyo 4536992112\n",
      "文字a tokyo 4536992112\n",
      "文字b osaka 4537005808\n"
     ]
    }
   ],
   "source": [
    "a = 'tokyo'\n",
    "b = a\n",
    "print('文字a', a, id(a))\n",
    "print('文字b', b, id(b))\n",
    "\n",
    "b = 'osaka'\n",
    "print('文字a', a, id(a))\n",
    "print('文字b', b, id(b))"
   ]
  },
  {
   "cell_type": "code",
   "execution_count": null,
   "metadata": {},
   "outputs": [],
   "source": []
  }
 ],
 "metadata": {
  "kernelspec": {
   "display_name": "Python 3",
   "language": "python",
   "name": "python3"
  },
  "language_info": {
   "codemirror_mode": {
    "name": "ipython",
    "version": 3
   },
   "file_extension": ".py",
   "mimetype": "text/x-python",
   "name": "python",
   "nbconvert_exporter": "python",
   "pygments_lexer": "ipython3",
   "version": "3.8.5"
  }
 },
 "nbformat": 4,
 "nbformat_minor": 4
}
