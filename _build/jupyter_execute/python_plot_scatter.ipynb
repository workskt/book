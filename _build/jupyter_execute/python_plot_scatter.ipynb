{
 "cells": [
  {
   "cell_type": "markdown",
   "metadata": {},
   "source": [
    "# 散布図の作成\n",
    "\n",
    "定番のirisを使って作成します。"
   ]
  },
  {
   "cell_type": "code",
   "execution_count": 1,
   "metadata": {},
   "outputs": [],
   "source": [
    "import pandas as pd\n",
    "from sklearn.datasets import load_iris\n",
    "iris = load_iris()\n",
    "df = pd.DataFrame(iris.data, columns=iris.feature_names)\n",
    "df['target'] = iris.target\n",
    "df.loc[df['target'] == 0, 'target'] = 'setosa'\n",
    "df.loc[df['target'] == 1, 'target'] = 'versicolor'\n",
    "df.loc[df['target'] == 2, 'target'] = 'virginica'"
   ]
  },
  {
   "cell_type": "code",
   "execution_count": 2,
   "metadata": {},
   "outputs": [
    {
     "data": {
      "text/html": [
       "<div>\n",
       "<style scoped>\n",
       "    .dataframe tbody tr th:only-of-type {\n",
       "        vertical-align: middle;\n",
       "    }\n",
       "\n",
       "    .dataframe tbody tr th {\n",
       "        vertical-align: top;\n",
       "    }\n",
       "\n",
       "    .dataframe thead th {\n",
       "        text-align: right;\n",
       "    }\n",
       "</style>\n",
       "<table border=\"1\" class=\"dataframe\">\n",
       "  <thead>\n",
       "    <tr style=\"text-align: right;\">\n",
       "      <th></th>\n",
       "      <th>sepal length (cm)</th>\n",
       "      <th>sepal width (cm)</th>\n",
       "      <th>petal length (cm)</th>\n",
       "      <th>petal width (cm)</th>\n",
       "      <th>target</th>\n",
       "    </tr>\n",
       "  </thead>\n",
       "  <tbody>\n",
       "    <tr>\n",
       "      <th>0</th>\n",
       "      <td>5.1</td>\n",
       "      <td>3.5</td>\n",
       "      <td>1.4</td>\n",
       "      <td>0.2</td>\n",
       "      <td>setosa</td>\n",
       "    </tr>\n",
       "    <tr>\n",
       "      <th>1</th>\n",
       "      <td>4.9</td>\n",
       "      <td>3.0</td>\n",
       "      <td>1.4</td>\n",
       "      <td>0.2</td>\n",
       "      <td>setosa</td>\n",
       "    </tr>\n",
       "    <tr>\n",
       "      <th>2</th>\n",
       "      <td>4.7</td>\n",
       "      <td>3.2</td>\n",
       "      <td>1.3</td>\n",
       "      <td>0.2</td>\n",
       "      <td>setosa</td>\n",
       "    </tr>\n",
       "    <tr>\n",
       "      <th>3</th>\n",
       "      <td>4.6</td>\n",
       "      <td>3.1</td>\n",
       "      <td>1.5</td>\n",
       "      <td>0.2</td>\n",
       "      <td>setosa</td>\n",
       "    </tr>\n",
       "    <tr>\n",
       "      <th>4</th>\n",
       "      <td>5.0</td>\n",
       "      <td>3.6</td>\n",
       "      <td>1.4</td>\n",
       "      <td>0.2</td>\n",
       "      <td>setosa</td>\n",
       "    </tr>\n",
       "    <tr>\n",
       "      <th>...</th>\n",
       "      <td>...</td>\n",
       "      <td>...</td>\n",
       "      <td>...</td>\n",
       "      <td>...</td>\n",
       "      <td>...</td>\n",
       "    </tr>\n",
       "    <tr>\n",
       "      <th>145</th>\n",
       "      <td>6.7</td>\n",
       "      <td>3.0</td>\n",
       "      <td>5.2</td>\n",
       "      <td>2.3</td>\n",
       "      <td>virginica</td>\n",
       "    </tr>\n",
       "    <tr>\n",
       "      <th>146</th>\n",
       "      <td>6.3</td>\n",
       "      <td>2.5</td>\n",
       "      <td>5.0</td>\n",
       "      <td>1.9</td>\n",
       "      <td>virginica</td>\n",
       "    </tr>\n",
       "    <tr>\n",
       "      <th>147</th>\n",
       "      <td>6.5</td>\n",
       "      <td>3.0</td>\n",
       "      <td>5.2</td>\n",
       "      <td>2.0</td>\n",
       "      <td>virginica</td>\n",
       "    </tr>\n",
       "    <tr>\n",
       "      <th>148</th>\n",
       "      <td>6.2</td>\n",
       "      <td>3.4</td>\n",
       "      <td>5.4</td>\n",
       "      <td>2.3</td>\n",
       "      <td>virginica</td>\n",
       "    </tr>\n",
       "    <tr>\n",
       "      <th>149</th>\n",
       "      <td>5.9</td>\n",
       "      <td>3.0</td>\n",
       "      <td>5.1</td>\n",
       "      <td>1.8</td>\n",
       "      <td>virginica</td>\n",
       "    </tr>\n",
       "  </tbody>\n",
       "</table>\n",
       "<p>150 rows × 5 columns</p>\n",
       "</div>"
      ],
      "text/plain": [
       "     sepal length (cm)  sepal width (cm)  petal length (cm)  petal width (cm)  \\\n",
       "0                  5.1               3.5                1.4               0.2   \n",
       "1                  4.9               3.0                1.4               0.2   \n",
       "2                  4.7               3.2                1.3               0.2   \n",
       "3                  4.6               3.1                1.5               0.2   \n",
       "4                  5.0               3.6                1.4               0.2   \n",
       "..                 ...               ...                ...               ...   \n",
       "145                6.7               3.0                5.2               2.3   \n",
       "146                6.3               2.5                5.0               1.9   \n",
       "147                6.5               3.0                5.2               2.0   \n",
       "148                6.2               3.4                5.4               2.3   \n",
       "149                5.9               3.0                5.1               1.8   \n",
       "\n",
       "        target  \n",
       "0       setosa  \n",
       "1       setosa  \n",
       "2       setosa  \n",
       "3       setosa  \n",
       "4       setosa  \n",
       "..         ...  \n",
       "145  virginica  \n",
       "146  virginica  \n",
       "147  virginica  \n",
       "148  virginica  \n",
       "149  virginica  \n",
       "\n",
       "[150 rows x 5 columns]"
      ]
     },
     "execution_count": 2,
     "metadata": {},
     "output_type": "execute_result"
    }
   ],
   "source": [
    "df"
   ]
  },
  {
   "cell_type": "markdown",
   "metadata": {},
   "source": [
    "---\n",
    "\n",
    "pyplotをインポートします。"
   ]
  },
  {
   "cell_type": "code",
   "execution_count": 3,
   "metadata": {},
   "outputs": [],
   "source": [
    "from matplotlib import pyplot as plt"
   ]
  },
  {
   "cell_type": "markdown",
   "metadata": {},
   "source": [
    "図の作成方法は、以下の2通りのものがよく使われます。\n",
    "\n",
    "**(1)pyplotだけで作成するもの**\n",
    "\n",
    "**(2)オブジェクト指向的に作成するもの(axをつかうやつ)**\n",
    "\n",
    "pyplotだけで図を作成することは可能ですが、オブジェクト指向的に作成する方が色々細かい加工ができるため、こちらにも慣れておくことをオススメします。\n",
    "\n",
    "\n",
    "---\n",
    "\n",
    "**(1)pyplotだけで作成するもの**\n",
    "\n",
    "`subplot( )`で図の配置等を指定します。まずはカッコ内は空でつくりましょう。\n",
    "\n",
    "`scatter(x軸データ, y軸データ)`で散布図を作成します。\n",
    "\n",
    "`xlabel( )`、`ylabel( )`で座標のラベルを出力します。\n",
    "\n",
    "`title( )`で図のタイトルを出力します。\n",
    "\n",
    "`show( )`で作成した図を表示します。"
   ]
  },
  {
   "cell_type": "code",
   "execution_count": 4,
   "metadata": {
    "scrolled": false
   },
   "outputs": [
    {
     "data": {
      "image/png": "[encoded data removed]",
      "text/plain": [
       "<Figure size 432x288 with 1 Axes>"
      ]
     },
     "metadata": {
      "filenames": {
       "image/png": "/Users/kt_imacpro/OneDrive/jupyter/book/_build/jupyter_execute/python_plot_scatter_6_0.png"
      },
      "needs_background": "light"
     },
     "output_type": "display_data"
    }
   ],
   "source": [
    "plt.subplot()\n",
    "plt.scatter(df['sepal length (cm)'], df['sepal width (cm)'])\n",
    "plt.xlabel('sepal length (cm)')\n",
    "plt.ylabel('sepal width (cm)')\n",
    "plt.title('plot test')\n",
    "plt.show()"
   ]
  },
  {
   "cell_type": "markdown",
   "metadata": {},
   "source": [
    "<br>\n",
    "\n",
    "表示範囲を変更したい場合は、`xlim( )` `ylim( )`を使用します。  \n",
    "カッコ内に表示したい範囲をカンマ区切りで指定します。"
   ]
  },
  {
   "cell_type": "code",
   "execution_count": 5,
   "metadata": {},
   "outputs": [
    {
     "data": {
      "image/png": "[encoded data removed]",
      "text/plain": [
       "<Figure size 432x288 with 1 Axes>"
      ]
     },
     "metadata": {
      "filenames": {
       "image/png": "/Users/kt_imacpro/OneDrive/jupyter/book/_build/jupyter_execute/python_plot_scatter_8_0.png"
      },
      "needs_background": "light"
     },
     "output_type": "display_data"
    }
   ],
   "source": [
    "plt.subplot()\n",
    "plt.scatter(df['sepal length (cm)'], df['sepal width (cm)'])\n",
    "plt.xlabel('sepal length (cm)')\n",
    "plt.ylabel('sepal width (cm)')\n",
    "plt.title('plot test')\n",
    "plt.xlim(5, 7) #x軸の範囲指定\n",
    "plt.ylim(2.5, 4) #y軸の範囲指定\n",
    "plt.show()"
   ]
  },
  {
   "cell_type": "markdown",
   "metadata": {},
   "source": [
    "---\n",
    "\n",
    "**(2)オブジェクト指向的に作成するもの**\n",
    "\n",
    "`subplots( )`でfigオブジェクトとaxオブジェクトを作成します。subplotsとsがついているので注意。\n",
    "\n",
    "`scatter(x軸データ, y軸データ)`で散布図を作成します。\n",
    "\n",
    "`set_xlabel( )`、`set_ylabel( )`で座標のラベルを出力します。\n",
    "\n",
    "`set_title( )`で図のタイトルを出力します。\n",
    "\n",
    "`show( )`で作成した図を表示します。"
   ]
  },
  {
   "cell_type": "code",
   "execution_count": 6,
   "metadata": {
    "scrolled": false
   },
   "outputs": [
    {
     "data": {
      "image/png": "[encoded data removed]",
      "text/plain": [
       "<Figure size 432x288 with 1 Axes>"
      ]
     },
     "metadata": {
      "filenames": {
       "image/png": "/Users/kt_imacpro/OneDrive/jupyter/book/_build/jupyter_execute/python_plot_scatter_10_0.png"
      },
      "needs_background": "light"
     },
     "output_type": "display_data"
    }
   ],
   "source": [
    "fig, ax = plt.subplots()\n",
    "ax.scatter(df['sepal length (cm)'], df['sepal width (cm)'])\n",
    "ax.set_xlabel('sepal length (cm)')\n",
    "ax.set_ylabel('sepal witdth (cm)')\n",
    "ax.set_title('plot test')\n",
    "plt.show()"
   ]
  },
  {
   "cell_type": "markdown",
   "metadata": {},
   "source": [
    "---\n",
    "\n",
    "項目ごとに色を分けたい場合は、`scatter( )`のカッコ内に、色を`color=`で、ラベル名を`label=`で指定します。"
   ]
  },
  {
   "cell_type": "code",
   "execution_count": 7,
   "metadata": {},
   "outputs": [
    {
     "data": {
      "image/png": "[encoded data removed]",
      "text/plain": [
       "<Figure size 432x288 with 1 Axes>"
      ]
     },
     "metadata": {
      "filenames": {
       "image/png": "/Users/kt_imacpro/OneDrive/jupyter/book/_build/jupyter_execute/python_plot_scatter_12_0.png"
      },
      "needs_background": "light"
     },
     "output_type": "display_data"
    }
   ],
   "source": [
    "#項目ごとにデータを取得します。\n",
    "df1 = df[df['target'] == 'setosa']\n",
    "df2 = df[df['target'] == 'versicolor']\n",
    "df3 = df[df['target'] == 'virginica']\n",
    "\n",
    "fig, ax = plt.subplots()\n",
    "\n",
    "#項目ごとにaxオブジェクトに順番にデータを代入する。その際に別々の色とラベル名を指定する。\n",
    "ax.scatter(df1['sepal length (cm)'], df1['sepal width (cm)'], color='red', label='setosa')\n",
    "ax.scatter(df2['sepal length (cm)'], df2['sepal width (cm)'], color='blue', label='versicolor')\n",
    "ax.scatter(df3['sepal length (cm)'], df3['sepal width (cm)'], color='green', label='virginica')\n",
    "\n",
    "ax.legend() #legendを出力するために必要\n",
    "ax.set_xlabel('sepal length (cm)')\n",
    "ax.set_ylabel('sepal witdth (cm)')\n",
    "ax.set_title('plot test')\n",
    "plt.show()"
   ]
  },
  {
   "cell_type": "markdown",
   "metadata": {},
   "source": [
    "<br>\n",
    "\n",
    "表示範囲を変更したい場合は、`set_xlim( )` `set_ylim( )`を使用します。  \n",
    "カッコ内に表示したい範囲をカンマ区切りで指定します。"
   ]
  },
  {
   "cell_type": "code",
   "execution_count": 8,
   "metadata": {},
   "outputs": [
    {
     "data": {
      "image/png": "[encoded data removed]",
      "text/plain": [
       "<Figure size 432x288 with 1 Axes>"
      ]
     },
     "metadata": {
      "filenames": {
       "image/png": "/Users/kt_imacpro/OneDrive/jupyter/book/_build/jupyter_execute/python_plot_scatter_14_0.png"
      },
      "needs_background": "light"
     },
     "output_type": "display_data"
    }
   ],
   "source": [
    "#項目ごとにデータを取得します。\n",
    "df1 = df[df['target'] == 'setosa']\n",
    "df2 = df[df['target'] == 'versicolor']\n",
    "df3 = df[df['target'] == 'virginica']\n",
    "\n",
    "fig, ax = plt.subplots()\n",
    "\n",
    "#項目ごとにaxオブジェクトに順番にデータを代入する。その際に別々の色とラベル名を指定する。\n",
    "ax.scatter(df1['sepal length (cm)'], df1['sepal width (cm)'], color='red', label='setosa')\n",
    "ax.scatter(df2['sepal length (cm)'], df2['sepal width (cm)'], color='blue', label='versicolor')\n",
    "ax.scatter(df3['sepal length (cm)'], df3['sepal width (cm)'], color='green', label='virginica')\n",
    "\n",
    "ax.legend() #legendを出力するために必要\n",
    "ax.set_xlabel('sepal length (cm)')\n",
    "ax.set_ylabel('sepal witdth (cm)')\n",
    "ax.set_title('plot test')\n",
    "ax.set_xlim(5, 7) #x軸の範囲指定\n",
    "ax.set_ylim(2.5, 4) #y軸の範囲指定\n",
    "plt.show()"
   ]
  }
 ],
 "metadata": {
  "kernelspec": {
   "display_name": "Python 3",
   "language": "python",
   "name": "python3"
  },
  "language_info": {
   "codemirror_mode": {
    "name": "ipython",
    "version": 3
   },
   "file_extension": ".py",
   "mimetype": "text/x-python",
   "name": "python",
   "nbconvert_exporter": "python",
   "pygments_lexer": "ipython3",
   "version": "3.8.5"
  }
 },
 "nbformat": 4,
 "nbformat_minor": 4
}